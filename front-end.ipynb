{
 "cells": [
  {
   "cell_type": "code",
   "execution_count": 20,
   "metadata": {
    "scrolled": false
   },
   "outputs": [
    {
     "data": {
      "text/plain": [
       "True"
      ]
     },
     "execution_count": 20,
     "metadata": {},
     "output_type": "execute_result"
    },
    {
     "data": {
      "text/plain": [
       "<Figure size 1440x1440 with 0 Axes>"
      ]
     },
     "metadata": {},
     "output_type": "display_data"
    }
   ],
   "source": [
    "import koda\n",
    "from matplotlib import pyplot as plt\n",
    "import cv2\n",
    "import numpy as np\n",
    "import math\n",
    "%matplotlib inline\n",
    "\n",
    "in_path = 'dataset'\n",
    "out_path = 'out'\n",
    "plt.figure(figsize=(20,20))\n",
    "\n",
    "# Read image\n",
    "filename = \"IMG_%d.jpg\" % 5\n",
    "img = cv2.imread(\"%s/%s\" % (in_path, filename), cv2.IMREAD_COLOR)\n",
    "#plt.imshow(cv2.cvtColor(img, cv2.COLOR_BGR2RGB))\n",
    "#plt.show()\n",
    "\n",
    "# Load image into koda engine\n",
    "doc, imgs = koda.load(img)\n",
    "\n",
    "# Show koda pipeline\n",
    "#fig, axes = plt.subplots(1, 4, figsize=(20, 20))\n",
    "#axes[0].imshow(cv2.cvtColor(imgs['edges'], cv2.COLOR_GRAY2RGB))\n",
    "#axes[1].imshow(cv2.cvtColor(imgs['hough_lines'], cv2.COLOR_BGR2RGB))\n",
    "#axes[2].imshow(cv2.cvtColor(imgs['corners'], cv2.COLOR_BGR2RGB))\n",
    "#axes[3].imshow(cv2.cvtColor(imgs['warp'], cv2.COLOR_BGR2RGB))\n",
    "#plt.plot()\n",
    "\n",
    "# Find text\n",
    "word = \"and\"\n",
    "original, warped = doc.findWord(word)\n",
    "\n",
    "cv2.imwrite(\"%s/original_%s\" % (out_path, filename), original)\n",
    "cv2.imwrite(\"%s/warped_%s\" % (out_path, filename), warped)"
   ]
  }
 ],
 "metadata": {
  "kernelspec": {
   "display_name": "Python 3",
   "language": "python",
   "name": "python3"
  },
  "language_info": {
   "codemirror_mode": {
    "name": "ipython",
    "version": 3
   },
   "file_extension": ".py",
   "mimetype": "text/x-python",
   "name": "python",
   "nbconvert_exporter": "python",
   "pygments_lexer": "ipython3",
   "version": "3.6.9"
  }
 },
 "nbformat": 4,
 "nbformat_minor": 2
}
