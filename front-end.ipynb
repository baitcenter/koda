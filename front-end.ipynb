{
 "cells": [
  {
   "cell_type": "code",
   "execution_count": null,
   "metadata": {
    "scrolled": false
   },
   "outputs": [
    {
     "name": "stderr",
     "output_type": "stream",
     "text": [
      "Using TensorFlow backend.\n"
     ]
    }
   ],
   "source": [
    "from koda import utils as kutils\n",
    "from koda import koda\n",
    "from matplotlib import pyplot as plt\n",
    "import cv2\n",
    "import numpy as np\n",
    "import math\n",
    "%matplotlib inline\n",
    "\n",
    "koda = Koda()\n",
    "\n",
    "for i in range(7):\n",
    "    fig, axes = plt.subplots(2, 3, figsize=(10, 10))\n",
    "\n",
    "    # Load image\n",
    "    file = 'dataset/IMG_%d.jpg' % i\n",
    "    img = cv2.imread(file, cv2.IMREAD_COLOR)\n",
    "    koda.load(img)\n",
    "    imgs = koda.pipeline.imgs    \n",
    "    axes[0][1].imshow(cv2.cvtColor(img, cv2.COLOR_BGR2RGB))\n",
    "    axes[0][2].imshow(cv2.cvtColor(imgs['edges'], cv2.COLOR_GRAY2RGB))\n",
    "    axes[0][3].imshow(cv2.cvtColor(imgs['hough_lines'], cv2.COLOR_BGR2RGB))\n",
    "    axes[1][0].imshow(cv2.cvtColor(imgs['corners'], cv2.COLOR_BGR2RGB))\n",
    "    axes[1][1].imshow(cv2.cvtColor(imgs['warp'], cv2.COLOR_BGR2RGB))\n",
    "    axes[1][2].imshow(cv2.cvtColor(imgs['color_correction'], cv2.COLOR_BGR2RGB))\n",
    "\n",
    "\n",
    "    # Plot edges detection image\n",
    "    #axes[1].imshow(cv2.cvtColor(cdetector.edges_img, cv2.COLOR_GRAY2RGB))  \n",
    "\n",
    "    # Plot Hough lines\n",
    "    #im_lines = cv2.cvtColor(cdetector.edges_img.copy(), cv2.COLOR_GRAY2BGR)\n",
    "    #colors = [(0,255,0),(0,0,255)]\n",
    "    #for j, lines in enumerate(cdetector.hough_lines):\n",
    "    #    im_lines = kutils.draw_polar_lines(im_lines, lines, colors[j])\n",
    "    #axes[1].imshow(cv2.cvtColor(im_lines, cv2.COLOR_BGR2RGB))\n",
    "\n",
    "    # Plot corners\n",
    "    #im_corners = img.copy()\n",
    "    #for x,y in corners:\n",
    "    #     cv2.circle(im_corners, (x,y), 30, (255, 0, 0), 30)\n",
    "\n",
    "    #axes[0].imshow(cv2.cvtColor(im_corners, cv2.COLOR_BGR2RGB))\n",
    "\n",
    "    # Warping\n",
    "    #shape = (corners.max(axis=0)[0], corners.max(axis=0)[1])\n",
    "    #dst_corners = np.array([[0,0],\n",
    "    #                        [0, shape[1]], \n",
    "    #                        [shape[0], 0],\n",
    "    #                        [shape[0], shape[1]]])\n",
    "    #M = cv2.getPerspectiveTransform(corners.astype(np.float32), dst_corners.astype(np.float32))\n",
    "    #warped = cv2.warpPerspective(img, M, shape)\n",
    "    \n",
    "    # Plot warped image\n",
    "    #axes[1].imshow(cv2.cvtColor(warped, cv2.COLOR_BGR2RGB))\n",
    "    plt.plot()"
   ]
  },
  {
   "cell_type": "code",
   "execution_count": null,
   "metadata": {},
   "outputs": [],
   "source": []
  }
 ],
 "metadata": {
  "kernelspec": {
   "display_name": "Python 3",
   "language": "python",
   "name": "python3"
  },
  "language_info": {
   "codemirror_mode": {
    "name": "ipython",
    "version": 3
   },
   "file_extension": ".py",
   "mimetype": "text/x-python",
   "name": "python",
   "nbconvert_exporter": "python",
   "pygments_lexer": "ipython3",
   "version": "3.6.10"
  }
 },
 "nbformat": 4,
 "nbformat_minor": 2
}
