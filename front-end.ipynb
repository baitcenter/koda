{
 "cells": [
  {
   "cell_type": "code",
   "execution_count": null,
   "metadata": {},
   "outputs": [
    {
     "name": "stderr",
     "output_type": "stream",
     "text": [
      "Using TensorFlow backend.\n"
     ]
    }
   ],
   "source": [
    "from koda.corners import CornersDetectorByEdges, CornersNotFound\n",
    "from matplotlib import pyplot as plt\n",
    "import cv2\n",
    "import numpy as np\n",
    "%matplotlib inline\n",
    "\n",
    "cdetector = CornersDetectorByEdges()\n",
    "\n",
    "for i in range(7):\n",
    "    fig, axes = plt.subplots(1, 2, figsize=(10,10))\n",
    "    file = 'dataset/IMG_%d.png' % i\n",
    "    img = cv2.imread(file, 0)\n",
    "    axes[0].imshow(cv2.cvtColor(img, cv2.COLOR_GRAY2RGB))  \n",
    "    \n",
    "    try:\n",
    "        corners = cdetector.find_corners(img)\n",
    "        print(cdetector.timed_out)\n",
    "    except CornersNotFound as e:\n",
    "        print(str(e))\n",
    "        continue\n",
    "\n",
    "    im_corners = cv2.cvtColor(img.copy(), cv2.COLOR_GRAY2BGR)\n",
    "    for x,y in corners:\n",
    "        cv2.circle(im_corners, (x,y), 2, (0, 255, 0), 6)\n",
    "    axes[1].imshow(cv2.cvtColor(im_corners, cv2.COLOR_BGR2RGB))\n",
    "    plt.show()"
   ]
  }
 ],
 "metadata": {
  "kernelspec": {
   "display_name": "Python 3",
   "language": "python",
   "name": "python3"
  },
  "language_info": {
   "codemirror_mode": {
    "name": "ipython",
    "version": 3
   },
   "file_extension": ".py",
   "mimetype": "text/x-python",
   "name": "python",
   "nbconvert_exporter": "python",
   "pygments_lexer": "ipython3",
   "version": "3.6.5"
  }
 },
 "nbformat": 4,
 "nbformat_minor": 2
}
