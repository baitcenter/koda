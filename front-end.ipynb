{
 "cells": [
  {
   "cell_type": "code",
   "execution_count": 1,
   "metadata": {
    "scrolled": false
   },
   "outputs": [
    {
     "name": "stderr",
     "output_type": "stream",
     "text": [
      "Using TensorFlow backend.\n",
      "/usr/src/app/koda/edge/network.py:66: UserWarning: Update your `Model` call to the Keras 2 API: `Model(inputs=Tensor(\"in..., outputs=Tensor(\"co...)`\n",
      "  self.model = Model(input = inputs, output = conv10)\n"
     ]
    },
    {
     "name": "stdout",
     "output_type": "stream",
     "text": [
      "[[ 982.46106 2689.2314 ]\n",
      " [ 985.122   2716.4407 ]\n",
      " [1053.5833  2709.8882 ]\n",
      " [1050.6748  2682.7288 ]]\n",
      "[[[ 982.46106 2689.2314 ]\n",
      "  [ 985.122   2716.4407 ]\n",
      "  [1053.5833  2709.8882 ]\n",
      "  [1050.6748  2682.7288 ]]]\n",
      "[[1616.3174 2640.881 ]\n",
      " [1621.0837 2666.7207]\n",
      " [1680.6384 2661.0115]\n",
      " [1675.6681 2635.2134]]\n",
      "[[[1616.3174 2640.881 ]\n",
      "  [1621.0837 2666.7207]\n",
      "  [1680.6384 2661.0115]\n",
      "  [1675.6681 2635.2134]]]\n",
      "[[1529.8751 2845.973 ]\n",
      " [1534.4636 2873.277 ]\n",
      " [1593.7544 2867.4285]\n",
      " [1588.9569 2840.168 ]]\n",
      "[[[1529.8751 2845.973 ]\n",
      "  [1534.4636 2873.277 ]\n",
      "  [1593.7544 2867.4285]\n",
      "  [1588.9569 2840.168 ]]]\n",
      "[[ 758.8616  2951.953  ]\n",
      " [ 760.69727 2980.0503 ]\n",
      " [ 811.2189  2975.0452 ]\n",
      " [ 809.2004  2946.9856 ]]\n",
      "[[[ 758.8616  2951.953  ]\n",
      "  [ 760.69727 2980.0503 ]\n",
      "  [ 811.2189  2975.0452 ]\n",
      "  [ 809.2004  2946.9856 ]]]\n",
      "[[1609.5209 2921.9397]\n",
      " [1614.4452 2949.7935]\n",
      " [1673.2483 2943.9233]\n",
      " [1668.1147 2916.1138]]\n",
      "[[[1609.5209 2921.9397]\n",
      "  [1614.4452 2949.7935]\n",
      "  [1673.2483 2943.9233]\n",
      "  [1668.1147 2916.1138]]]\n",
      "[[ 714.16907 3350.8157 ]\n",
      " [ 716.13245 3385.5195 ]\n",
      " [ 780.19666 3378.817  ]\n",
      " [ 777.96124 3344.1724 ]]\n",
      "[[[ 714.16907 3350.8157 ]\n",
      "  [ 716.13245 3385.5195 ]\n",
      "  [ 780.19666 3378.817  ]\n",
      "  [ 777.96124 3344.1724 ]]]\n",
      "[[1775.6559 3254.4692]\n",
      " [1781.2031 3283.628 ]\n",
      " [1854.0076 3276.0012]\n",
      " [1848.2012 3246.9   ]]\n",
      "[[[1775.6559 3254.4692]\n",
      "  [1781.2031 3283.628 ]\n",
      "  [1854.0076 3276.0012]\n",
      "  [1848.2012 3246.9   ]]]\n"
     ]
    },
    {
     "data": {
      "text/plain": [
       "True"
      ]
     },
     "execution_count": 1,
     "metadata": {},
     "output_type": "execute_result"
    },
    {
     "data": {
      "text/plain": [
       "<Figure size 1440x1440 with 0 Axes>"
      ]
     },
     "metadata": {},
     "output_type": "display_data"
    }
   ],
   "source": [
    "import koda\n",
    "from matplotlib import pyplot as plt\n",
    "import cv2\n",
    "import numpy as np\n",
    "import math\n",
    "%matplotlib inline\n",
    "\n",
    "in_path = 'dataset'\n",
    "out_path = 'out'\n",
    "plt.figure(figsize=(20,20))\n",
    "\n",
    "# Read image\n",
    "filename = \"IMG_%d.jpg\" % 5\n",
    "img = cv2.imread(\"%s/%s\" % (in_path, filename), cv2.IMREAD_COLOR)\n",
    "#plt.imshow(cv2.cvtColor(img, cv2.COLOR_BGR2RGB))\n",
    "#plt.show()\n",
    "\n",
    "# Load image into koda engine\n",
    "doc, imgs = koda.load(img)\n",
    "\n",
    "# Show koda pipeline\n",
    "#fig, axes = plt.subplots(1, 4, figsize=(20, 20))\n",
    "#axes[0].imshow(cv2.cvtColor(imgs['edges'], cv2.COLOR_GRAY2RGB))\n",
    "#axes[1].imshow(cv2.cvtColor(imgs['hough_lines'], cv2.COLOR_BGR2RGB))\n",
    "#axes[2].imshow(cv2.cvtColor(imgs['corners'], cv2.COLOR_BGR2RGB))\n",
    "#axes[3].imshow(cv2.cvtColor(imgs['warp'], cv2.COLOR_BGR2RGB))\n",
    "#plt.plot()\n",
    "\n",
    "# Find text\n",
    "word = \"and\"\n",
    "original, warped = doc.findWord(word)\n",
    "\n",
    "cv2.imwrite(\"%s/original_%s\" % (out_path, filename), original)\n",
    "cv2.imwrite(\"%s/warped_%s\" % (out_path, filename), warped)"
   ]
  }
 ],
 "metadata": {
  "kernelspec": {
   "display_name": "Python 3",
   "language": "python",
   "name": "python3"
  },
  "language_info": {
   "codemirror_mode": {
    "name": "ipython",
    "version": 3
   },
   "file_extension": ".py",
   "mimetype": "text/x-python",
   "name": "python",
   "nbconvert_exporter": "python",
   "pygments_lexer": "ipython3",
   "version": "3.6.9"
  }
 },
 "nbformat": 4,
 "nbformat_minor": 2
}
